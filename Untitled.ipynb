{
 "cells": [
  {
   "cell_type": "code",
   "execution_count": 294,
   "metadata": {},
   "outputs": [],
   "source": [
    "# Imports\n",
    "import torch\n",
    "import torch.nn as nn\n",
    "import torch.optim as optim\n",
    "import torch.nn.functional as F\n",
    "from torch.utils.data import DataLoader\n",
    "import torchvision.datasets as datasets\n",
    "import torchvision.transforms as transforms\n",
    "import matplotlib.pyplot as plt\n",
    "from tqdm import tqdm_notebook\n",
    "\n",
    "# Set Device\n",
    "device = torch.device('cuda' if torch.cuda.is_available() else 'cpu')"
   ]
  },
  {
   "cell_type": "code",
   "execution_count": 333,
   "metadata": {},
   "outputs": [],
   "source": [
    "# Hyperparameters\n",
    "input_size = 28\n",
    "sequence_length = 28\n",
    "num_layers = 2\n",
    "hidden_size = 256\n",
    "num_classes = 10\n",
    "learning_rate = 0.001\n",
    "batch_size = 64\n",
    "num_epochs = 10\n",
    "latent_dim = 2\n",
    "nsamples = 10"
   ]
  },
  {
   "cell_type": "code",
   "execution_count": 334,
   "metadata": {},
   "outputs": [],
   "source": [
    "# Creating a RNN\n",
    "class RNN(nn.Module):\n",
    "    def __init__(self, input_size, hidden_size, num_layers, num_classes):\n",
    "        super(RNN, self).__init__()\n",
    "        self.hidden_size = hidden_size\n",
    "        self.num_layers = num_layers\n",
    "        self.rnn = nn.RNN(input_size, hidden_size, num_layers, batch_first=True)\n",
    "        self.fc = nn.Linear(hidden_size, num_classes)\n",
    "        \n",
    "        self.mu = nn.Linear(num_classes, latent_dim)\n",
    "        self.sigma = nn.Linear(num_classes, latent_dim)\n",
    "        \n",
    "        self.fc2 = nn.Linear(latent_dim, input_size*sequence_length)\n",
    "    \n",
    "    def forward(self, x):\n",
    "        h0 = torch.zeros(self.num_layers, x.size(0), self.hidden_size).to(device)\n",
    "\n",
    "        # Forward prop\n",
    "        out, _ = self.rnn(x, h0)\n",
    "        out = self.fc(out[:, -1, :])\n",
    "        mu = self.mu(out)\n",
    "        sigma = self.sigma(out)\n",
    "        eps = torch.normal(mean=torch.zeros(mu.size(0), latent_dim), std=torch.ones(mu.size(0), latent_dim)).to(device)\n",
    "        z = mu + (sigma*eps)\n",
    "        out = self.fc2(z)\n",
    "        out = torch.reshape(out, (-1,28,28))\n",
    "        return out"
   ]
  },
  {
   "cell_type": "code",
   "execution_count": 335,
   "metadata": {},
   "outputs": [],
   "source": [
    "# Load Data\n",
    "train_dataset = datasets.MNIST(root='dataset/', train=True, transform=transforms.ToTensor(), download=True)\n",
    "train_loader = DataLoader(dataset=train_dataset, batch_size=batch_size, shuffle=True)\n",
    "test_dataset = datasets.MNIST(root='dataset/', train=False, transform=transforms.ToTensor(), download=True)\n",
    "test_loader = DataLoader(dataset=test_dataset, batch_size=batch_size, shuffle=True)\n",
    "\n",
    "# Initialize Network\n",
    "model = RNN(input_size, hidden_size, num_layers, num_classes).to(device)\n",
    "\n",
    "# Loss and optimizer\n",
    "MSE_Loss = nn.MSELoss()\n",
    "optimizer = optim.Adam(model.parameters(), lr=learning_rate) "
   ]
  },
  {
   "cell_type": "code",
   "execution_count": 336,
   "metadata": {},
   "outputs": [
    {
     "data": {
      "image/png": "[encoded data removed]",
      "text/plain": [
       "<Figure size 432x288 with 1 Axes>"
      ]
     },
     "execution_count": 336,
     "metadata": {},
     "output_type": "execute_result"
    },
    {
     "data": {
      "image/png": "[encoded data removed]",
      "text/plain": [
       "<Figure size 432x288 with 1 Axes>"
      ]
     },
     "metadata": {},
     "output_type": "display_data"
    }
   ],
   "source": [
    "for batch_idx, (data, targets) in enumerate(train_loader):\n",
    "    if batch_idx > nsamples:\n",
    "        break\n",
    "    fig = plt.figure()\n",
    "    for i in range(1):\n",
    "        plt.subplot(2,3,i+1)\n",
    "        plt.tight_layout()\n",
    "        plt.imshow(data[i][0], cmap='gray', interpolation='none')\n",
    "        plt.title(\"Ground Truth: {}\".format(targets[i]))\n",
    "        plt.xticks([])\n",
    "        plt.yticks([])\n",
    "    break\n",
    "fig"
   ]
  },
  {
   "cell_type": "code",
   "execution_count": 337,
   "metadata": {},
   "outputs": [
    {
     "data": {
      "text/plain": [
       "RNN(\n",
       "  (rnn): RNN(28, 256, num_layers=2, batch_first=True)\n",
       "  (fc): Linear(in_features=256, out_features=10, bias=True)\n",
       "  (mu): Linear(in_features=10, out_features=2, bias=True)\n",
       "  (sigma): Linear(in_features=10, out_features=2, bias=True)\n",
       "  (fc2): Linear(in_features=2, out_features=784, bias=True)\n",
       ")"
      ]
     },
     "execution_count": 337,
     "metadata": {},
     "output_type": "execute_result"
    }
   ],
   "source": [
    "model"
   ]
  },
  {
   "cell_type": "code",
   "execution_count": 338,
   "metadata": {},
   "outputs": [
    {
     "name": "stderr",
     "output_type": "stream",
     "text": [
      "D:\\anaconda3\\lib\\site-packages\\ipykernel_launcher.py:2: TqdmDeprecationWarning: This function will be removed in tqdm==5.0.0\n",
      "Please use `tqdm.notebook.tqdm` instead of `tqdm.tqdm_notebook`\n",
      "  \n"
     ]
    },
    {
     "data": {
      "application/vnd.jupyter.widget-view+json": {
       "model_id": "6d66539a9ca34e5b9b349730128b46db",
       "version_major": 2,
       "version_minor": 0
      },
      "text/plain": [
       "HBox(children=(FloatProgress(value=0.0, max=10.0), HTML(value='')))"
      ]
     },
     "metadata": {},
     "output_type": "display_data"
    },
    {
     "name": "stdout",
     "output_type": "stream",
     "text": [
      "Loss in epoch 0 : 0.3034503757953644 0\n",
      "Loss in epoch 0 : 0.07027298212051392 500\n",
      "Loss in epoch 1 : 0.06567016243934631 0\n",
      "Loss in epoch 1 : 0.06138128042221069 500\n",
      "Loss in epoch 2 : 0.06965020298957825 0\n",
      "Loss in epoch 2 : 0.06285690516233444 500\n",
      "Loss in epoch 3 : 0.058357566595077515 0\n",
      "Loss in epoch 3 : 0.06311944872140884 500\n",
      "Loss in epoch 4 : 0.05584023892879486 0\n",
      "Loss in epoch 4 : 0.06020107492804527 500\n",
      "Loss in epoch 5 : 0.057416487485170364 0\n",
      "Loss in epoch 5 : 0.05762705206871033 500\n",
      "Loss in epoch 6 : 0.05873763561248779 0\n",
      "Loss in epoch 6 : 0.05566772073507309 500\n",
      "Loss in epoch 7 : 0.05651861056685448 0\n",
      "Loss in epoch 7 : 0.05874667689204216 500\n",
      "Loss in epoch 8 : 0.05527142062783241 0\n",
      "Loss in epoch 8 : 0.0569595992565155 500\n",
      "Loss in epoch 9 : 0.05842677876353264 0\n",
      "Loss in epoch 9 : 0.058555491268634796 500\n",
      "\n"
     ]
    }
   ],
   "source": [
    "# Train Network\n",
    "for epoch in tqdm_notebook(range(num_epochs)):\n",
    "    \n",
    "    for batch_idx, (data, targets) in enumerate(train_loader):\n",
    "        # Get data to cuda if possible\n",
    "        data = data.to(device=device).squeeze(1)\n",
    "        # forward\n",
    "        reconstructed_data = model(data)\n",
    "        reconstruction_loss = MSE_Loss(reconstructed_data, data)\n",
    "        # backward\n",
    "        optimizer.zero_grad()\n",
    "        reconstruction_loss.backward()\n",
    "        # gradient descent or adam step\n",
    "        optimizer.step()\n",
    "        \n",
    "        if batch_idx % 500 == 0:\n",
    "            print(\"Loss in epoch\", epoch, \":\", reconstruction_loss.item(), batch_idx)"
   ]
  },
  {
   "cell_type": "code",
   "execution_count": 339,
   "metadata": {},
   "outputs": [
    {
     "name": "stdout",
     "output_type": "stream",
     "text": [
      "Checking accuracy on training data...\n"
     ]
    },
    {
     "data": {
      "image/png": "[encoded data removed]",
      "text/plain": [
       "<Figure size 432x288 with 4 Axes>"
      ]
     },
     "metadata": {
      "needs_background": "light"
     },
     "output_type": "display_data"
    },
    {
     "name": "stdout",
     "output_type": "stream",
     "text": [
      "Checking accuracy on testing data...\n"
     ]
    },
    {
     "data": {
      "image/png": "[encoded data removed]",
      "text/plain": [
       "<Figure size 432x288 with 4 Axes>"
      ]
     },
     "metadata": {
      "needs_background": "light"
     },
     "output_type": "display_data"
    }
   ],
   "source": [
    "def check_accuracy(loader, model):\n",
    "    if loader.dataset.train:\n",
    "        print(\"Checking accuracy on training data...\")\n",
    "    else:\n",
    "        print(\"Checking accuracy on testing data...\")\n",
    "\n",
    "    num_correct = 0\n",
    "    num_samples = 0\n",
    "    model.eval()\n",
    "    with torch.no_grad():\n",
    "        for x, y in loader:\n",
    "            x = x.to(device=device).squeeze(1)\n",
    "            reconstructed_data = model(x)\n",
    "            x = x.cpu().numpy()\n",
    "            reconstructed_data = reconstructed_data.cpu().numpy()\n",
    "            \n",
    "            plt.subplot(2,2,1)\n",
    "            plt.imshow(x[0], cmap='gray', interpolation='none')\n",
    "            plt.subplot(2,2,2)\n",
    "            plt.imshow(reconstructed_data[0], cmap='gray', interpolation='none')\n",
    "            plt.subplot(2,2,3)\n",
    "            plt.imshow(x[1], cmap='gray', interpolation='none')\n",
    "            plt.subplot(2,2,4)\n",
    "            plt.imshow(reconstructed_data[1], cmap='gray', interpolation='none')\n",
    "            \n",
    "            plt.show()\n",
    "            break\n",
    "        \n",
    "    model.train()\n",
    "\n",
    "check_accuracy(train_loader, model)\n",
    "check_accuracy(test_loader, model)"
   ]
  },
  {
   "cell_type": "code",
   "execution_count": null,
   "metadata": {},
   "outputs": [],
   "source": []
  }
 ],
 "metadata": {
  "kernelspec": {
   "display_name": "Python 3",
   "language": "python",
   "name": "python3"
  },
  "language_info": {
   "codemirror_mode": {
    "name": "ipython",
    "version": 3
   },
   "file_extension": ".py",
   "mimetype": "text/x-python",
   "name": "python",
   "nbconvert_exporter": "python",
   "pygments_lexer": "ipython3",
   "version": "3.7.6"
  }
 },
 "nbformat": 4,
 "nbformat_minor": 4
}
